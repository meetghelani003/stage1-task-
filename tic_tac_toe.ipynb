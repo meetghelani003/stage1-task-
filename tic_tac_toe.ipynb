{
 "cells": [
  {
   "cell_type": "code",
   "execution_count": 35,
   "id": "7e1992c8-14f7-412e-9c12-e4a910f34e1d",
   "metadata": {},
   "outputs": [
    {
     "name": "stdout",
     "output_type": "stream",
     "text": [
      "Welcome to Tic Tac Toe\n",
      "0 | 1 | 2 \n",
      "3 | 4 | 5 \n",
      "6 | 7 | 8 \n",
      "X's Chance\n"
     ]
    },
    {
     "name": "stdin",
     "output_type": "stream",
     "text": [
      "Please enter a value:  0\n"
     ]
    },
    {
     "name": "stdout",
     "output_type": "stream",
     "text": [
      "Match over\n"
     ]
    }
   ],
   "source": [
    "def sum(a, b, c ):\n",
    "    return a + b + c\n",
    "\n",
    "def tic_tac_toe(xState, zState):\n",
    "    zero = 'X' if xState[0] else ('O' if zState[0] else 0)\n",
    "    one = 'X' if xState[1] else ('O' if zState[1] else 1)\n",
    "    two = 'X' if xState[2] else ('O' if zState[2] else 2)\n",
    "    three = 'X' if xState[3] else ('O' if zState[3] else 3)\n",
    "    four = 'X' if xState[4] else ('O' if zState[4] else 4)\n",
    "    five = 'X' if xState[5] else ('O' if zState[5] else 5)\n",
    "    six = 'X' if xState[6] else ('O' if zState[6] else 6)\n",
    "    seven = 'X' if xState[7] else ('O' if zState[7] else 7)\n",
    "    eight = 'X' if xState[8] else ('O' if zState[8] else 8)\n",
    "    print(f\"{zero} | {one} | {two} \")\n",
    "    print(f\"{three} | {four} | {five} \")\n",
    "    print(f\"{six} | {seven} | {eight} \") \n",
    "\n",
    "def checkWin(xState, zState):\n",
    "    wins = [[0, 1, 2], [3, 4, 5], [6, 7, 8], [0, 3, 6], [1, 4, 7], [2, 5, 8], [0, 4, 8], [2, 4, 6]]\n",
    "    for win in wins:\n",
    "        # Check for X's win condition\n",
    "        if xState[win[0]] and xState[win[1]] and xState[win[2]]:\n",
    "            print(\"X Won the match\")\n",
    "            return 1\n",
    "        # Check for O's win condition\n",
    "        if zState[win[0]] and zState[win[1]] and zState[win[2]]:\n",
    "            print(\"O Won the match\")\n",
    "            return 0\n",
    "\n",
    "    # Check for a draw\n",
    "    if all(xState[i] or zState[i] for i in range(9)):\n",
    "        print(\"It's a draw\")\n",
    "        return -1\n",
    "    \n",
    "    # The game is still ongoing\n",
    "        return None\n",
    "    \n",
    "if __name__ == \"__main__\":\n",
    "    xState = [0, 0, 0, 0, 0, 0, 0, 0, 0]\n",
    "    zState = [0, 0, 0, 0, 0, 0, 0, 0, 0]\n",
    "    turn = 1 # 1 for X and 0 for O\n",
    "    print(\"Welcome to Tic Tac Toe\")\n",
    "    while(True):\n",
    "        tic_tac_toe(xState, zState)\n",
    "        if(turn == 1):\n",
    "            print(\"X's Chance\")\n",
    "            value = int(input(\"Please enter a value: \"))\n",
    "            xState[value] = 1\n",
    "        else:\n",
    "            print(\"O's Chance\")\n",
    "            value = int(input(\"Please enter a value: \"))\n",
    "            zState[value] = 1\n",
    "        cwin = checkWin(xState, zState)\n",
    "        if(cwin != -1):\n",
    "            print(\"Match over\")\n",
    "            break\n",
    "        \n",
    "        turn = 1 - turn"
   ]
  },
  {
   "cell_type": "code",
   "execution_count": null,
   "id": "e79b84be-4ce7-447d-807d-178d7c37c8ad",
   "metadata": {},
   "outputs": [],
   "source": []
  }
 ],
 "metadata": {
  "kernelspec": {
   "display_name": "Python 3 (ipykernel)",
   "language": "python",
   "name": "python3"
  },
  "language_info": {
   "codemirror_mode": {
    "name": "ipython",
    "version": 3
   },
   "file_extension": ".py",
   "mimetype": "text/x-python",
   "name": "python",
   "nbconvert_exporter": "python",
   "pygments_lexer": "ipython3",
   "version": "3.12.2"
  }
 },
 "nbformat": 4,
 "nbformat_minor": 5
}
