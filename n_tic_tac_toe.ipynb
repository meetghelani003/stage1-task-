{
 "cells": [
  {
   "cell_type": "code",
   "execution_count": 8,
   "id": "54b6c79d-1661-418b-8167-601d4c013460",
   "metadata": {},
   "outputs": [],
   "source": [
    "def initialize_board(n):\n",
    "    return [[' ' for _ in range(n)] for _ in range(n)]\n"
   ]
  },
  {
   "cell_type": "code",
   "execution_count": 9,
   "id": "9466ef02-3e33-488b-9277-25e0298f153f",
   "metadata": {},
   "outputs": [],
   "source": [
    "def print_board(board):\n",
    "    n = len(board)\n",
    "    for row in board:\n",
    "        print(' | '.join(row))\n",
    "        print('-' * (3 * n - 1))\n"
   ]
  },
  {
   "cell_type": "code",
   "execution_count": 10,
   "id": "93c77dd9-1f71-4eec-bd52-ef9c88b286cb",
   "metadata": {},
   "outputs": [],
   "source": [
    "def check_winner(board, player):\n",
    "    n = len(board)\n",
    "    \n",
    "    # Check rows\n",
    "    for row in board:\n",
    "        if all(cell == player for cell in row):\n",
    "            return True\n",
    "    \n",
    "    # Check columns\n",
    "    for col in range(n):\n",
    "        if all(board[row][col] == player for row in range(n)):\n",
    "            return True\n",
    "    \n",
    "    # Check main diagonal\n",
    "    if all(board[i][i] == player for i in range(n)):\n",
    "        return True\n",
    "    \n",
    "    # Check anti-diagonal\n",
    "    if all(board[i][n - 1 - i] == player for i in range(n)):\n",
    "        return True\n",
    "    \n",
    "    return False\n"
   ]
  },
  {
   "cell_type": "code",
   "execution_count": 11,
   "id": "e4fe1596-3a5a-47da-a60c-bf70ad3aa497",
   "metadata": {},
   "outputs": [],
   "source": [
    "def check_draw(board):\n",
    "    return all(cell != ' ' for row in board for cell in row)\n"
   ]
  },
  {
   "cell_type": "code",
   "execution_count": 12,
   "id": "0ef750f2-df9a-4cff-a9c5-7e5d76f86053",
   "metadata": {},
   "outputs": [],
   "source": [
    "def get_move(board):\n",
    "    while True:\n",
    "        try:\n",
    "            move = input(\"Enter your move as 'row,col': \")\n",
    "            row, col = map(int, move.split(','))\n",
    "            if board[row][col] == ' ':\n",
    "                return row, col\n",
    "            else:\n",
    "                print(\"Cell already taken. Try again.\")\n",
    "        except (ValueError, IndexError):\n",
    "            print(\"Invalid move. Make sure it's in the format 'row,col' and within the board.\")\n"
   ]
  },
  {
   "cell_type": "code",
   "execution_count": null,
   "id": "ea03a4c0-9d86-467d-9c1b-be30e33f8ffd",
   "metadata": {},
   "outputs": [
    {
     "name": "stdin",
     "output_type": "stream",
     "text": [
      "Enter the size of the board (n x n):  3\n"
     ]
    },
    {
     "name": "stdout",
     "output_type": "stream",
     "text": [
      "  |   |  \n",
      "--------\n",
      "  |   |  \n",
      "--------\n",
      "  |   |  \n",
      "--------\n",
      "Player X's turn\n"
     ]
    }
   ],
   "source": [
    "def play_game(n):\n",
    "    board = initialize_board(n)\n",
    "    players = ['X', 'O']\n",
    "    turn = 0\n",
    "    \n",
    "    while True:\n",
    "        print_board(board)\n",
    "        print(f\"Player {players[turn % 2]}'s turn\")\n",
    "        row, col = get_move(board)\n",
    "        board[row][col] = players[turn % 2]\n",
    "        \n",
    "        if check_winner(board, players[turn % 2]):\n",
    "            print_board(board)\n",
    "            print(f\"Player {players[turn % 2]} wins!\")\n",
    "            break\n",
    "        \n",
    "        if check_draw(board):\n",
    "            print_board(board)\n",
    "            print(\"It's a draw!\")\n",
    "            break\n",
    "        \n",
    "        turn += 1\n",
    "\n",
    "if __name__ == \"__main__\":\n",
    "    n = int(input(\"Enter the size of the board (n x n): \"))\n",
    "    play_game(n)\n"
   ]
  }
 ],
 "metadata": {
  "kernelspec": {
   "display_name": "Python 3 (ipykernel)",
   "language": "python",
   "name": "python3"
  },
  "language_info": {
   "codemirror_mode": {
    "name": "ipython",
    "version": 3
   },
   "file_extension": ".py",
   "mimetype": "text/x-python",
   "name": "python",
   "nbconvert_exporter": "python",
   "pygments_lexer": "ipython3",
   "version": "3.12.2"
  }
 },
 "nbformat": 4,
 "nbformat_minor": 5
}
